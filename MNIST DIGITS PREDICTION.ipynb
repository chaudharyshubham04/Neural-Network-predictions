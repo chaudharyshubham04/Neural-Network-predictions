{
 "cells": [
  {
   "cell_type": "code",
   "execution_count": 2,
   "metadata": {},
   "outputs": [],
   "source": [
    "from tensorflow import keras\n",
    "import matplotlib.pyplot as plt\n",
    "%matplotlib inline\n",
    "import numpy as np"
   ]
  },
  {
   "cell_type": "code",
   "execution_count": 4,
   "metadata": {},
   "outputs": [],
   "source": [
    "from keras.datasets import mnist\n",
    "(X_train,Y_train),(X_test,Y_test)=mnist.load_data()\n",
    " "
   ]
  },
  {
   "cell_type": "code",
   "execution_count": 3,
   "metadata": {},
   "outputs": [
    {
     "data": {
      "text/plain": [
       "<matplotlib.colorbar.Colorbar at 0x7f5aca31d690>"
      ]
     },
     "execution_count": 3,
     "metadata": {},
     "output_type": "execute_result"
    },
    {
     "data": {
      "image/png": "[encoded data removed]",
      "text/plain": [
       "<Figure size 432x288 with 2 Axes>"
      ]
     },
     "metadata": {
      "needs_background": "light"
     },
     "output_type": "display_data"
    }
   ],
   "source": [
    "plt.imshow(X_train[4],cmap='gist_gray')\n",
    "plt.colorbar()"
   ]
  },
  {
   "cell_type": "code",
   "execution_count": 5,
   "metadata": {},
   "outputs": [],
   "source": [
    "X_train = X_train/ 255.0\n",
    "X_test = X_test / 255.0 \n",
    "#scaling it between 0 and 1"
   ]
  },
  {
   "cell_type": "code",
   "execution_count": 6,
   "metadata": {},
   "outputs": [],
   "source": [
    "model=keras.Sequential([\n",
    "    keras.layers.Flatten(input_shape=(28,28)),\n",
    "    keras.layers.Dense(units=128, activation='relu'),\n",
    "    keras.layers.Dense(units=10,activation='sigmoid')\n",
    "])"
   ]
  },
  {
   "cell_type": "code",
   "execution_count": 7,
   "metadata": {},
   "outputs": [],
   "source": [
    "model.compile(optimizer='adam',loss=keras.losses.SparseCategoricalCrossentropy(from_logits=True)\n",
    "                                                                              ,metrics=['accuracy'])"
   ]
  },
  {
   "cell_type": "code",
   "execution_count": 8,
   "metadata": {},
   "outputs": [
    {
     "name": "stdout",
     "output_type": "stream",
     "text": [
      "Train on 60000 samples\n",
      "Epoch 1/10\n",
      "60000/60000 [==============================] - 26s 432us/sample - loss: 1.5672 - accuracy: 0.9102\n",
      "Epoch 2/10\n",
      "60000/60000 [==============================] - 5s 89us/sample - loss: 1.5102 - accuracy: 0.9514\n",
      "Epoch 3/10\n",
      "60000/60000 [==============================] - 5s 83us/sample - loss: 1.4975 - accuracy: 0.9640\n",
      "Epoch 4/10\n",
      "60000/60000 [==============================] - 5s 88us/sample - loss: 1.4906 - accuracy: 0.9702\n",
      "Epoch 5/10\n",
      "60000/60000 [==============================] - 5s 75us/sample - loss: 1.4860 - accuracy: 0.9750\n",
      "Epoch 6/10\n",
      "60000/60000 [==============================] - 5s 83us/sample - loss: 1.4828 - accuracy: 0.9773\n",
      "Epoch 7/10\n",
      "60000/60000 [==============================] - 5s 76us/sample - loss: 1.4804 - accuracy: 0.9798\n",
      "Epoch 8/10\n",
      "60000/60000 [==============================] - 6s 95us/sample - loss: 1.4782 - accuracy: 0.9821\n",
      "Epoch 9/10\n",
      "60000/60000 [==============================] - 5s 91us/sample - loss: 1.4770 - accuracy: 0.9829\n",
      "Epoch 10/10\n",
      "60000/60000 [==============================] - 6s 94us/sample - loss: 1.4755 - accuracy: 0.9845\n"
     ]
    },
    {
     "data": {
      "text/plain": [
       "<tensorflow.python.keras.callbacks.History at 0x7f5acad9f910>"
      ]
     },
     "execution_count": 8,
     "metadata": {},
     "output_type": "execute_result"
    }
   ],
   "source": [
    "model.fit(X_train,Y_train,epochs=10)"
   ]
  },
  {
   "cell_type": "code",
   "execution_count": 9,
   "metadata": {},
   "outputs": [],
   "source": [
    "pred=model.predict(X_test)"
   ]
  },
  {
   "cell_type": "code",
   "execution_count": 10,
   "metadata": {},
   "outputs": [
    {
     "name": "stdout",
     "output_type": "stream",
     "text": [
      " true 7 and predicted 7\n",
      " true 2 and predicted 2\n",
      " true 1 and predicted 1\n",
      " true 0 and predicted 0\n",
      " true 4 and predicted 4\n",
      " true 1 and predicted 1\n",
      " true 4 and predicted 4\n",
      " true 9 and predicted 9\n",
      " true 5 and predicted 5\n",
      " true 9 and predicted 9\n",
      " true 0 and predicted 0\n",
      " true 6 and predicted 6\n",
      " true 9 and predicted 9\n",
      " true 0 and predicted 0\n",
      " true 1 and predicted 1\n",
      " true 5 and predicted 5\n",
      " true 9 and predicted 9\n",
      " true 7 and predicted 7\n",
      " true 3 and predicted 8\n",
      " true 4 and predicted 4\n"
     ]
    }
   ],
   "source": [
    " for i in range(20):\n",
    "    print(f\" true {Y_test[i]} and predicted {np.argmax(pred[i])}\")\n",
    "    \n",
    "   "
   ]
  },
  {
   "cell_type": "markdown",
   "metadata": {},
   "source": [
    "# 2nd method or way"
   ]
  },
  {
   "cell_type": "code",
   "execution_count": 1,
   "metadata": {},
   "outputs": [
    {
     "name": "stderr",
     "output_type": "stream",
     "text": [
      "Using TensorFlow backend.\n"
     ]
    }
   ],
   "source": [
    "from keras.datasets import mnist\n",
    "(train_images,train_labels),(test_images,test_labels)=mnist.load_data()"
   ]
  },
  {
   "cell_type": "code",
   "execution_count": 2,
   "metadata": {},
   "outputs": [],
   "source": [
    "train_images=train_images.reshape(60000,784)\n",
    "test_images=test_images.reshape(10000,784)\n",
    "train_images=train_images.astype('float32')\n",
    "test_images=test_images.astype('float32')\n",
    "train_images=train_images/255.0\n",
    "test_images=test_images/255.0"
   ]
  },
  {
   "cell_type": "code",
   "execution_count": 3,
   "metadata": {},
   "outputs": [],
   "source": [
    "from keras.models import Sequential\n",
    "from keras.layers import Dense,Activation,Dropout"
   ]
  },
  {
   "cell_type": "code",
   "execution_count": 4,
   "metadata": {},
   "outputs": [],
   "source": [
    "model=Sequential()\n",
    "model.add(Dense(512,input_shape=(784,)))\n",
    "model.add(Activation('relu') )\n",
    "model.add(Dropout(0.2))                 \n",
    "model.add(Dense(512))\n",
    "model.add(Activation('relu') )\n",
    "model.add(Dropout(0.2))\n",
    "model.add(Dense(10))\n",
    "model.add(Activation('softmax'))"
   ]
  },
  {
   "cell_type": "code",
   "execution_count": 5,
   "metadata": {},
   "outputs": [],
   "source": [
    "model.compile(loss='categorical_crossentropy', metrics=['accuracy'],\n",
    "optimizer='adam')"
   ]
  },
  {
   "cell_type": "code",
   "execution_count": 6,
   "metadata": {},
   "outputs": [],
   "source": [
    "from keras.utils import to_categorical\n",
    "n_classes = 10\n",
    "train_labels = to_categorical(train_labels, n_classes)\n",
    "test_labels = to_categorical(test_labels, n_classes)"
   ]
  },
  {
   "cell_type": "code",
   "execution_count": 7,
   "metadata": {},
   "outputs": [
    {
     "name": "stdout",
     "output_type": "stream",
     "text": [
      "Train on 60000 samples, validate on 10000 samples\n",
      "Epoch 1/10\n",
      "60000/60000 [==============================] - 30s 494us/step - loss: 0.2138 - accuracy: 0.9349 - val_loss: 0.1024 - val_accuracy: 0.9688\n",
      "Epoch 2/10\n",
      "60000/60000 [==============================] - 31s 519us/step - loss: 0.1066 - accuracy: 0.9668 - val_loss: 0.0917 - val_accuracy: 0.9725\n",
      "Epoch 3/10\n",
      "60000/60000 [==============================] - 31s 509us/step - loss: 0.0820 - accuracy: 0.9743 - val_loss: 0.0924 - val_accuracy: 0.9742\n",
      "Epoch 4/10\n",
      "60000/60000 [==============================] - 33s 547us/step - loss: 0.0683 - accuracy: 0.9789 - val_loss: 0.0773 - val_accuracy: 0.9781\n",
      "Epoch 5/10\n",
      "60000/60000 [==============================] - 33s 546us/step - loss: 0.0567 - accuracy: 0.9824 - val_loss: 0.0753 - val_accuracy: 0.9788\n",
      "Epoch 6/10\n",
      "60000/60000 [==============================] - 33s 549us/step - loss: 0.0490 - accuracy: 0.9846 - val_loss: 0.0683 - val_accuracy: 0.9815\n",
      "Epoch 7/10\n",
      "60000/60000 [==============================] - 33s 551us/step - loss: 0.0465 - accuracy: 0.9857 - val_loss: 0.0935 - val_accuracy: 0.9778\n",
      "Epoch 8/10\n",
      "60000/60000 [==============================] - 33s 548us/step - loss: 0.0445 - accuracy: 0.9862 - val_loss: 0.0679 - val_accuracy: 0.9814\n",
      "Epoch 9/10\n",
      "60000/60000 [==============================] - 34s 559us/step - loss: 0.0381 - accuracy: 0.9883 - val_loss: 0.0694 - val_accuracy: 0.9817\n",
      "Epoch 10/10\n",
      "60000/60000 [==============================] - 33s 552us/step - loss: 0.0350 - accuracy: 0.9891 - val_loss: 0.0880 - val_accuracy: 0.9808\n"
     ]
    },
    {
     "data": {
      "text/plain": [
       "<keras.callbacks.callbacks.History at 0x7fe24e03f4d0>"
      ]
     },
     "execution_count": 7,
     "metadata": {},
     "output_type": "execute_result"
    }
   ],
   "source": [
    "model.fit(train_images,train_labels,epochs=10,validation_data=(test_images,test_labels))"
   ]
  },
  {
   "cell_type": "code",
   "execution_count": 12,
   "metadata": {},
   "outputs": [
    {
     "name": "stdout",
     "output_type": "stream",
     "text": [
      " true 7 and predicted 7\n",
      " true 2 and predicted 2\n",
      " true 1 and predicted 1\n",
      " true 0 and predicted 0\n",
      " true 4 and predicted 4\n",
      " true 1 and predicted 1\n",
      " true 4 and predicted 4\n",
      " true 9 and predicted 9\n",
      " true 5 and predicted 5\n",
      " true 9 and predicted 9\n",
      " true 0 and predicted 0\n",
      " true 6 and predicted 6\n",
      " true 9 and predicted 9\n",
      " true 0 and predicted 0\n",
      " true 1 and predicted 1\n",
      " true 5 and predicted 5\n",
      " true 9 and predicted 9\n",
      " true 7 and predicted 7\n",
      " true 3 and predicted 3\n",
      " true 4 and predicted 4\n"
     ]
    }
   ],
   "source": [
    "pred=model.predict(test_images)\n",
    "for i in range(20):\n",
    "    print(f\" true {np.argmax(test_labels[i])} and predicted {np.argmax(pred[i])}\")\n",
    "    \n",
    "   "
   ]
  },
  {
   "cell_type": "code",
   "execution_count": 1,
   "metadata": {},
   "outputs": [],
   "source": [
    "\n"
   ]
  },
  {
   "cell_type": "code",
   "execution_count": null,
   "metadata": {},
   "outputs": [],
   "source": [
    " "
   ]
  },
  {
   "cell_type": "code",
   "execution_count": 4,
   "metadata": {},
   "outputs": [
    {
     "name": "stderr",
     "output_type": "stream",
     "text": [
      "Using TensorFlow backend.\n"
     ]
    }
   ],
   "source": [
    "from keras.datasets import mnist\n",
    "(train_images,train_labels),(test_images,test_labels)=mnist.load_data()"
   ]
  },
  {
   "cell_type": "code",
   "execution_count": 5,
   "metadata": {},
   "outputs": [],
   "source": [
    "model=keras.Sequential()"
   ]
  },
  {
   "cell_type": "code",
   "execution_count": 6,
   "metadata": {},
   "outputs": [],
   "source": [
    "model.add(keras.layers.Conv2D(32,(3,3),activation='relu',input_shape=(28,28,1))) "
   ]
  },
  {
   "cell_type": "code",
   "execution_count": 7,
   "metadata": {},
   "outputs": [],
   "source": [
    "train_images = train_images.reshape(train_images.shape[0], 28, 28, 1)\n",
    "test_images= test_images.reshape(test_images.shape[0], 28, 28, 1)\n",
    " \n",
    "train_images = train_images.astype('float32')\n",
    "test_images= test_images.astype('float32')\n",
    "train_images/= 255\n",
    "test_images/= 255"
   ]
  },
  {
   "cell_type": "code",
   "execution_count": 8,
   "metadata": {},
   "outputs": [],
   "source": [
    "model.add(keras.layers.MaxPooling2D(pool_size=(2, 2))) \n",
    "model.add(keras.layers.Flatten())\n",
    "model.add(keras.layers.Dense(128,activation='relu'))\n",
    "model.add(keras.layers.Dense(10,activation='sigmoid'))"
   ]
  },
  {
   "cell_type": "code",
   "execution_count": 9,
   "metadata": {},
   "outputs": [],
   "source": [
    "model.compile(optimizer='adam',loss=keras.losses.SparseCategoricalCrossentropy(from_logits=True),metrics=['accuracy'])"
   ]
  },
  {
   "cell_type": "code",
   "execution_count": 10,
   "metadata": {},
   "outputs": [
    {
     "name": "stdout",
     "output_type": "stream",
     "text": [
      "Train on 60000 samples, validate on 10000 samples\n",
      "Epoch 1/10\n",
      "60000/60000 [==============================] - 46s 769us/sample - loss: 1.5277 - accuracy: 0.9393 - val_loss: 1.4862 - val_accuracy: 0.9763\n",
      "Epoch 2/10\n",
      "60000/60000 [==============================] - 37s 613us/sample - loss: 1.4828 - accuracy: 0.9793 - val_loss: 1.4807 - val_accuracy: 0.9804\n",
      "Epoch 3/10\n",
      "60000/60000 [==============================] - 40s 668us/sample - loss: 1.4759 - accuracy: 0.9851 - val_loss: 1.4775 - val_accuracy: 0.9828\n",
      "Epoch 4/10\n",
      "60000/60000 [==============================] - 40s 671us/sample - loss: 1.4731 - accuracy: 0.9883 - val_loss: 1.4766 - val_accuracy: 0.9851\n",
      "Epoch 5/10\n",
      "60000/60000 [==============================] - 41s 680us/sample - loss: 1.4706 - accuracy: 0.9905 - val_loss: 1.4752 - val_accuracy: 0.9853\n",
      "Epoch 6/10\n",
      "60000/60000 [==============================] - 41s 690us/sample - loss: 1.4691 - accuracy: 0.9916 - val_loss: 1.4749 - val_accuracy: 0.9858\n",
      "Epoch 7/10\n",
      "60000/60000 [==============================] - 40s 665us/sample - loss: 1.4681 - accuracy: 0.9925 - val_loss: 1.4751 - val_accuracy: 0.9846\n",
      "Epoch 8/10\n",
      "60000/60000 [==============================] - 42s 694us/sample - loss: 1.4672 - accuracy: 0.9936 - val_loss: 1.4743 - val_accuracy: 0.9885\n",
      "Epoch 9/10\n",
      "60000/60000 [==============================] - 42s 701us/sample - loss: 1.4667 - accuracy: 0.9944 - val_loss: 1.4748 - val_accuracy: 0.9863\n",
      "Epoch 10/10\n",
      "60000/60000 [==============================] - 42s 692us/sample - loss: 1.4659 - accuracy: 0.9951 - val_loss: 1.4741 - val_accuracy: 0.9880\n"
     ]
    },
    {
     "data": {
      "text/plain": [
       "<tensorflow.python.keras.callbacks.History at 0x7f596a0a0450>"
      ]
     },
     "execution_count": 10,
     "metadata": {},
     "output_type": "execute_result"
    }
   ],
   "source": [
    "model.fit(train_images,train_labels,epochs=10,validation_data=(test_images,test_labels)) "
   ]
  },
  {
   "cell_type": "code",
   "execution_count": 11,
   "metadata": {},
   "outputs": [],
   "source": [
    "#now predict the results"
   ]
  },
  {
   "cell_type": "code",
   "execution_count": null,
   "metadata": {},
   "outputs": [],
   "source": []
  }
 ],
 "metadata": {
  "kernelspec": {
   "display_name": "Python 3",
   "language": "python",
   "name": "python3"
  },
  "language_info": {
   "codemirror_mode": {
    "name": "ipython",
    "version": 3
   },
   "file_extension": ".py",
   "mimetype": "text/x-python",
   "name": "python",
   "nbconvert_exporter": "python",
   "pygments_lexer": "ipython3",
   "version": "3.7.6"
  }
 },
 "nbformat": 4,
 "nbformat_minor": 4
}
